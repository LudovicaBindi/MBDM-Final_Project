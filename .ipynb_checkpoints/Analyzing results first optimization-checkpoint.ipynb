{
 "cells": [
  {
   "cell_type": "code",
   "execution_count": 1,
   "metadata": {},
   "outputs": [],
   "source": [
    "import pandas as pd\n",
    "import matplotlib.pyplot as plt\n",
    "import numpy as np"
   ]
  },
  {
   "cell_type": "code",
   "execution_count": 2,
   "metadata": {},
   "outputs": [],
   "source": [
    "results = pd.read_csv('intermediate outputs/optimization output(10000,[0.1],6).csv')\n",
    "results = results.drop(columns=['Unnamed: 0'])"
   ]
  },
  {
   "cell_type": "code",
   "execution_count": 3,
   "metadata": {},
   "outputs": [
    {
     "data": {
      "text/html": [
       "<div>\n",
       "<style scoped>\n",
       "    .dataframe tbody tr th:only-of-type {\n",
       "        vertical-align: middle;\n",
       "    }\n",
       "\n",
       "    .dataframe tbody tr th {\n",
       "        vertical-align: top;\n",
       "    }\n",
       "\n",
       "    .dataframe thead th {\n",
       "        text-align: right;\n",
       "    }\n",
       "</style>\n",
       "<table border=\"1\" class=\"dataframe\">\n",
       "  <thead>\n",
       "    <tr style=\"text-align: right;\">\n",
       "      <th></th>\n",
       "      <th>0_RfR 0</th>\n",
       "      <th>0_RfR 1</th>\n",
       "      <th>0_RfR 2</th>\n",
       "      <th>1_RfR 0</th>\n",
       "      <th>1_RfR 1</th>\n",
       "      <th>1_RfR 2</th>\n",
       "      <th>2_RfR 0</th>\n",
       "      <th>2_RfR 1</th>\n",
       "      <th>2_RfR 2</th>\n",
       "      <th>3_RfR 0</th>\n",
       "      <th>...</th>\n",
       "      <th>A.4_Dike Investment Costs</th>\n",
       "      <th>A.4_Expected Annual Damage</th>\n",
       "      <th>A.4_Expected Number of Deaths</th>\n",
       "      <th>A.5_Dike Investment Costs</th>\n",
       "      <th>A.5_Expected Annual Damage</th>\n",
       "      <th>A.5_Expected Number of Deaths</th>\n",
       "      <th>Expected Evacuation Costs</th>\n",
       "      <th>Other.Dikes_Expected Annual Damage</th>\n",
       "      <th>Other.Dikes_Total Dike Investment Costs</th>\n",
       "      <th>Other.Dikes_Expected Number of Deaths</th>\n",
       "    </tr>\n",
       "  </thead>\n",
       "  <tbody>\n",
       "    <tr>\n",
       "      <th>0</th>\n",
       "      <td>0</td>\n",
       "      <td>1</td>\n",
       "      <td>1</td>\n",
       "      <td>0</td>\n",
       "      <td>1</td>\n",
       "      <td>0</td>\n",
       "      <td>1</td>\n",
       "      <td>0</td>\n",
       "      <td>0</td>\n",
       "      <td>1</td>\n",
       "      <td>...</td>\n",
       "      <td>3.092742e+07</td>\n",
       "      <td>0.000000</td>\n",
       "      <td>0.000000</td>\n",
       "      <td>1.029410e+08</td>\n",
       "      <td>2.087207e+06</td>\n",
       "      <td>0.001861</td>\n",
       "      <td>0.000000</td>\n",
       "      <td>0.000000</td>\n",
       "      <td>2.743480e+08</td>\n",
       "      <td>0.000000</td>\n",
       "    </tr>\n",
       "    <tr>\n",
       "      <th>1</th>\n",
       "      <td>1</td>\n",
       "      <td>1</td>\n",
       "      <td>1</td>\n",
       "      <td>0</td>\n",
       "      <td>1</td>\n",
       "      <td>0</td>\n",
       "      <td>1</td>\n",
       "      <td>1</td>\n",
       "      <td>0</td>\n",
       "      <td>1</td>\n",
       "      <td>...</td>\n",
       "      <td>1.285759e+07</td>\n",
       "      <td>496651.052887</td>\n",
       "      <td>0.000039</td>\n",
       "      <td>2.503721e+07</td>\n",
       "      <td>5.883163e+06</td>\n",
       "      <td>0.000787</td>\n",
       "      <td>323.661937</td>\n",
       "      <td>176119.223515</td>\n",
       "      <td>4.425241e+08</td>\n",
       "      <td>0.000025</td>\n",
       "    </tr>\n",
       "    <tr>\n",
       "      <th>2</th>\n",
       "      <td>1</td>\n",
       "      <td>1</td>\n",
       "      <td>1</td>\n",
       "      <td>1</td>\n",
       "      <td>1</td>\n",
       "      <td>1</td>\n",
       "      <td>1</td>\n",
       "      <td>1</td>\n",
       "      <td>0</td>\n",
       "      <td>0</td>\n",
       "      <td>...</td>\n",
       "      <td>7.332080e+06</td>\n",
       "      <td>0.000000</td>\n",
       "      <td>0.000000</td>\n",
       "      <td>1.132062e+08</td>\n",
       "      <td>0.000000e+00</td>\n",
       "      <td>0.000000</td>\n",
       "      <td>0.000000</td>\n",
       "      <td>0.000000</td>\n",
       "      <td>3.048442e+08</td>\n",
       "      <td>0.000000</td>\n",
       "    </tr>\n",
       "    <tr>\n",
       "      <th>3</th>\n",
       "      <td>0</td>\n",
       "      <td>1</td>\n",
       "      <td>0</td>\n",
       "      <td>0</td>\n",
       "      <td>0</td>\n",
       "      <td>1</td>\n",
       "      <td>1</td>\n",
       "      <td>0</td>\n",
       "      <td>0</td>\n",
       "      <td>1</td>\n",
       "      <td>...</td>\n",
       "      <td>6.320800e+06</td>\n",
       "      <td>808974.534185</td>\n",
       "      <td>0.000150</td>\n",
       "      <td>9.359665e+07</td>\n",
       "      <td>0.000000e+00</td>\n",
       "      <td>0.000000</td>\n",
       "      <td>25.963224</td>\n",
       "      <td>0.000000</td>\n",
       "      <td>6.663138e+08</td>\n",
       "      <td>0.000000</td>\n",
       "    </tr>\n",
       "    <tr>\n",
       "      <th>4</th>\n",
       "      <td>1</td>\n",
       "      <td>0</td>\n",
       "      <td>1</td>\n",
       "      <td>0</td>\n",
       "      <td>1</td>\n",
       "      <td>0</td>\n",
       "      <td>0</td>\n",
       "      <td>1</td>\n",
       "      <td>1</td>\n",
       "      <td>0</td>\n",
       "      <td>...</td>\n",
       "      <td>1.258646e+07</td>\n",
       "      <td>0.000000</td>\n",
       "      <td>0.000000</td>\n",
       "      <td>1.034257e+08</td>\n",
       "      <td>8.983527e+06</td>\n",
       "      <td>0.008072</td>\n",
       "      <td>0.000000</td>\n",
       "      <td>0.000000</td>\n",
       "      <td>3.551321e+08</td>\n",
       "      <td>0.000000</td>\n",
       "    </tr>\n",
       "  </tbody>\n",
       "</table>\n",
       "<p>5 rows × 41 columns</p>\n",
       "</div>"
      ],
      "text/plain": [
       "   0_RfR 0  0_RfR 1  0_RfR 2  1_RfR 0  1_RfR 1  1_RfR 2  2_RfR 0  2_RfR 1  \\\n",
       "0        0        1        1        0        1        0        1        0   \n",
       "1        1        1        1        0        1        0        1        1   \n",
       "2        1        1        1        1        1        1        1        1   \n",
       "3        0        1        0        0        0        1        1        0   \n",
       "4        1        0        1        0        1        0        0        1   \n",
       "\n",
       "   2_RfR 2  3_RfR 0  ...  A.4_Dike Investment Costs  \\\n",
       "0        0        1  ...               3.092742e+07   \n",
       "1        0        1  ...               1.285759e+07   \n",
       "2        0        0  ...               7.332080e+06   \n",
       "3        0        1  ...               6.320800e+06   \n",
       "4        1        0  ...               1.258646e+07   \n",
       "\n",
       "   A.4_Expected Annual Damage  A.4_Expected Number of Deaths  \\\n",
       "0                    0.000000                       0.000000   \n",
       "1               496651.052887                       0.000039   \n",
       "2                    0.000000                       0.000000   \n",
       "3               808974.534185                       0.000150   \n",
       "4                    0.000000                       0.000000   \n",
       "\n",
       "   A.5_Dike Investment Costs  A.5_Expected Annual Damage  \\\n",
       "0               1.029410e+08                2.087207e+06   \n",
       "1               2.503721e+07                5.883163e+06   \n",
       "2               1.132062e+08                0.000000e+00   \n",
       "3               9.359665e+07                0.000000e+00   \n",
       "4               1.034257e+08                8.983527e+06   \n",
       "\n",
       "   A.5_Expected Number of Deaths  Expected Evacuation Costs  \\\n",
       "0                       0.001861                   0.000000   \n",
       "1                       0.000787                 323.661937   \n",
       "2                       0.000000                   0.000000   \n",
       "3                       0.000000                  25.963224   \n",
       "4                       0.008072                   0.000000   \n",
       "\n",
       "   Other.Dikes_Expected Annual Damage  \\\n",
       "0                            0.000000   \n",
       "1                       176119.223515   \n",
       "2                            0.000000   \n",
       "3                            0.000000   \n",
       "4                            0.000000   \n",
       "\n",
       "   Other.Dikes_Total Dike Investment Costs  \\\n",
       "0                             2.743480e+08   \n",
       "1                             4.425241e+08   \n",
       "2                             3.048442e+08   \n",
       "3                             6.663138e+08   \n",
       "4                             3.551321e+08   \n",
       "\n",
       "   Other.Dikes_Expected Number of Deaths  \n",
       "0                               0.000000  \n",
       "1                               0.000025  \n",
       "2                               0.000000  \n",
       "3                               0.000000  \n",
       "4                               0.000000  \n",
       "\n",
       "[5 rows x 41 columns]"
      ]
     },
     "execution_count": 3,
     "metadata": {},
     "output_type": "execute_result"
    }
   ],
   "source": [
    "results.head()"
   ]
  },
  {
   "cell_type": "markdown",
   "metadata": {},
   "source": [
    "### Printing some plots and statistics"
   ]
  },
  {
   "cell_type": "code",
   "execution_count": 4,
   "metadata": {},
   "outputs": [],
   "source": [
    "outcomes = results.columns[31:41] # select the outcomes of the optmization"
   ]
  },
  {
   "cell_type": "code",
   "execution_count": 5,
   "metadata": {},
   "outputs": [
    {
     "data": {
      "image/png": "[encoded data removed]",
      "text/plain": [
       "<Figure size 576x288 with 1 Axes>"
      ]
     },
     "metadata": {
      "needs_background": "light"
     },
     "output_type": "display_data"
    },
    {
     "data": {
      "image/png": "[encoded data removed]",
      "text/plain": [
       "<Figure size 576x288 with 1 Axes>"
      ]
     },
     "metadata": {
      "needs_background": "light"
     },
     "output_type": "display_data"
    },
    {
     "data": {
      "image/png": "[encoded data removed]",
      "text/plain": [
       "<Figure size 576x288 with 1 Axes>"
      ]
     },
     "metadata": {
      "needs_background": "light"
     },
     "output_type": "display_data"
    },
    {
     "data": {
      "image/png": "[encoded data removed]",
      "text/plain": [
       "<Figure size 576x288 with 1 Axes>"
      ]
     },
     "metadata": {
      "needs_background": "light"
     },
     "output_type": "display_data"
    },
    {
     "data": {
      "image/png": "[encoded data removed]",
      "text/plain": [
       "<Figure size 576x288 with 1 Axes>"
      ]
     },
     "metadata": {
      "needs_background": "light"
     },
     "output_type": "display_data"
    },
    {
     "data": {
      "image/png": "[encoded data removed]",
      "text/plain": [
       "<Figure size 576x288 with 1 Axes>"
      ]
     },
     "metadata": {
      "needs_background": "light"
     },
     "output_type": "display_data"
    },
    {
     "data": {
      "image/png": "[encoded data removed]",
      "text/plain": [
       "<Figure size 576x288 with 1 Axes>"
      ]
     },
     "metadata": {
      "needs_background": "light"
     },
     "output_type": "display_data"
    },
    {
     "data": {
      "image/png": "[encoded data removed]",
      "text/plain": [
       "<Figure size 576x288 with 1 Axes>"
      ]
     },
     "metadata": {
      "needs_background": "light"
     },
     "output_type": "display_data"
    },
    {
     "data": {
      "image/png": "[encoded data removed]",
      "text/plain": [
       "<Figure size 576x288 with 1 Axes>"
      ]
     },
     "metadata": {
      "needs_background": "light"
     },
     "output_type": "display_data"
    },
    {
     "data": {
      "image/png": "[encoded data removed]",
      "text/plain": [
       "<Figure size 576x288 with 1 Axes>"
      ]
     },
     "metadata": {
      "needs_background": "light"
     },
     "output_type": "display_data"
    }
   ],
   "source": [
    "for outcome in outcomes:\n",
    "    fig, ax = plt.subplots(ncols=1, sharex=True, figsize=(8,4))\n",
    "    plt.hist(x = results[outcome])\n",
    "    ax.set_ylabel('frequency')\n",
    "    ax.set_xlabel(outcome)"
   ]
  },
  {
   "cell_type": "code",
   "execution_count": 6,
   "metadata": {},
   "outputs": [
    {
     "name": "stdout",
     "output_type": "stream",
     "text": [
      "A.4_Dike Investment Costs\n",
      "max value: 84322880.59216172\n",
      "min value: 0.0\n",
      "\n",
      "A.4_Expected Annual Damage\n",
      "max value: 17564640.619609352\n",
      "min value: 0.0\n",
      "\n",
      "A.4_Expected Number of Deaths\n",
      "max value: 0.008946397468884601\n",
      "min value: 0.0\n",
      "\n",
      "A.5_Dike Investment Costs\n",
      "max value: 198258101.22035733\n",
      "min value: 0.0\n",
      "\n",
      "A.5_Expected Annual Damage\n",
      "max value: 140152950.45699227\n",
      "min value: 0.0\n",
      "\n",
      "A.5_Expected Number of Deaths\n",
      "max value: 0.12513343926988654\n",
      "min value: 0.0\n",
      "\n",
      "Expected Evacuation Costs\n",
      "max value: 10400.665037395238\n",
      "min value: 0.0\n",
      "\n",
      "Other.Dikes_Expected Annual Damage\n",
      "max value: 357140504.99629617\n",
      "min value: 0.0\n",
      "\n",
      "Other.Dikes_Total Dike Investment Costs\n",
      "max value: 669109405.7671884\n",
      "min value: 0.0\n",
      "\n",
      "Other.Dikes_Expected Number of Deaths\n",
      "max value: 0.31642753318725864\n",
      "min value: 0.0\n",
      "\n"
     ]
    }
   ],
   "source": [
    "for outcome in outcomes:\n",
    "    print(outcome)\n",
    "    print(f'max value: {max(results[outcome])}')\n",
    "    print(f'min value: {min(results[outcome])}')\n",
    "    print()"
   ]
  },
  {
   "cell_type": "markdown",
   "metadata": {},
   "source": [
    "### Selecting policies"
   ]
  },
  {
   "cell_type": "code",
   "execution_count": 7,
   "metadata": {},
   "outputs": [],
   "source": [
    "deaths = [\"A.4_Expected Number of Deaths\", \"A.5_Expected Number of Deaths\", \"Other.Dikes_Expected Number of Deaths\"]"
   ]
  },
  {
   "cell_type": "markdown",
   "metadata": {},
   "source": [
    "1. No policies with too many dead"
   ]
  },
  {
   "cell_type": "code",
   "execution_count": 8,
   "metadata": {},
   "outputs": [
    {
     "name": "stdout",
     "output_type": "stream",
     "text": [
      "Policies kept: 945\n",
      "% Policies kept: 86.3013698630137\n"
     ]
    }
   ],
   "source": [
    "logical = (results[deaths[0]] < 0.12) & (results[deaths[1]] < 0.12) & (results[deaths[2]] < 0.12)\n",
    "print(f'Policies kept: {np.sum(logical)}')\n",
    "print(f'% Policies kept: {np.sum(logical)/len(results) * 100}')"
   ]
  },
  {
   "cell_type": "markdown",
   "metadata": {},
   "source": [
    "2. Policies with the lowest number of deaths for our dike rings"
   ]
  },
  {
   "cell_type": "code",
   "execution_count": 9,
   "metadata": {},
   "outputs": [],
   "source": [
    "results['Dike 4 & 5 - Total deaths'] = results[\"A.4_Expected Number of Deaths\"] + results[\"A.5_Expected Number of Deaths\"]"
   ]
  },
  {
   "cell_type": "code",
   "execution_count": 10,
   "metadata": {},
   "outputs": [
    {
     "data": {
      "image/png": "[encoded data removed]",
      "text/plain": [
       "<Figure size 576x288 with 1 Axes>"
      ]
     },
     "metadata": {
      "needs_background": "light"
     },
     "output_type": "display_data"
    }
   ],
   "source": [
    "fig, ax = plt.subplots(ncols=1, sharex=True, figsize=(8,4))\n",
    "plt.hist(x = results['Dike 4 & 5 - Total deaths'])\n",
    "ax.set_ylabel('frequency')\n",
    "ax.set_xlabel('Dike 4 & 5 - Total deaths');"
   ]
  },
  {
   "cell_type": "code",
   "execution_count": 11,
   "metadata": {},
   "outputs": [
    {
     "name": "stdout",
     "output_type": "stream",
     "text": [
      "Policies kept: 274\n",
      "% Policies kept: 25.022831050228312\n",
      "\n",
      "Policies kept: 547\n",
      "% Policies kept: 49.954337899543376\n",
      "\n",
      "Policies kept: 821\n",
      "% Policies kept: 74.9771689497717\n",
      "\n"
     ]
    }
   ],
   "source": [
    "for q in [25, 50, 75]:\n",
    "    logical = results['Dike 4 & 5 - Total deaths'] < np.percentile(results['Dike 4 & 5 - Total deaths'], q)\n",
    "    print(f'Policies kept: {np.sum(logical)}')\n",
    "    print(f'% Policies kept: {np.sum(logical)/len(results) * 100}')\n",
    "    print()"
   ]
  },
  {
   "cell_type": "markdown",
   "metadata": {},
   "source": [
    "Last year's group had 59 solutions to begin with, with their selection they kept 31 solutions."
   ]
  },
  {
   "cell_type": "markdown",
   "metadata": {},
   "source": [
    "### Creating ranges for the hypervolume convergence thing"
   ]
  },
  {
   "cell_type": "markdown",
   "metadata": {},
   "source": [
    "Basic idea for the range: since 0 is the minimum value for each of the outcomes, then the range will be from 0 to the max value of each category (dike costs, damages, deaths) increased by 10%."
   ]
  },
  {
   "cell_type": "code",
   "execution_count": 22,
   "metadata": {},
   "outputs": [],
   "source": [
    "def compute_max(columns, results, title):\n",
    "    all_max = []\n",
    "    for column in columns:\n",
    "        print(column)\n",
    "        print(f'max value: {max(results[column])}' + '\\n')\n",
    "        all_max.append(max(results[column]))\n",
    "        \n",
    "    print('max ' + title + \": \" + f'{max(all_max)}')\n",
    "    return max(all_max)\n",
    "    \n",
    "def print_range(max_value):\n",
    "    print(f'range: (0, {max_value * 1.1})')"
   ]
  },
  {
   "cell_type": "code",
   "execution_count": 23,
   "metadata": {},
   "outputs": [
    {
     "name": "stdout",
     "output_type": "stream",
     "text": [
      "A.4_Dike Investment Costs\n",
      "max value: 84322880.59216172\n",
      "\n",
      "A.5_Dike Investment Costs\n",
      "max value: 198258101.22035733\n",
      "\n",
      "Other.Dikes_Total Dike Investment Costs\n",
      "max value: 669109405.7671884\n",
      "\n",
      "max dike costs: 669109405.7671884\n",
      "\n",
      "range: (0, 736020346.3439074)\n"
     ]
    }
   ],
   "source": [
    "# costs\n",
    "costs = [\"A.4_Dike Investment Costs\", \"A.5_Dike Investment Costs\", \"Other.Dikes_Total Dike Investment Costs\"]\n",
    "max_cost = compute_max(costs, results, 'dike costs')\n",
    "print()\n",
    "print_range(max_cost)"
   ]
  },
  {
   "cell_type": "code",
   "execution_count": 24,
   "metadata": {},
   "outputs": [
    {
     "name": "stdout",
     "output_type": "stream",
     "text": [
      "A.4_Expected Annual Damage\n",
      "max value: 17564640.619609352\n",
      "\n",
      "A.5_Expected Annual Damage\n",
      "max value: 140152950.45699227\n",
      "\n",
      "Other.Dikes_Expected Annual Damage\n",
      "max value: 357140504.99629617\n",
      "\n",
      "max total damages: 357140504.99629617\n",
      "\n",
      "range: (0, 392854555.49592584)\n"
     ]
    }
   ],
   "source": [
    "# damage\n",
    "damages = ['A.4_Expected Annual Damage', \"A.5_Expected Annual Damage\", \"Other.Dikes_Expected Annual Damage\"]\n",
    "max_dam = compute_max(damages, results, 'total damages')\n",
    "print()\n",
    "print_range(max_dam)"
   ]
  },
  {
   "cell_type": "code",
   "execution_count": 25,
   "metadata": {},
   "outputs": [
    {
     "name": "stdout",
     "output_type": "stream",
     "text": [
      "A.4_Expected Number of Deaths\n",
      "max value: 0.008946397468884601\n",
      "\n",
      "A.5_Expected Number of Deaths\n",
      "max value: 0.12513343926988654\n",
      "\n",
      "Other.Dikes_Expected Number of Deaths\n",
      "max value: 0.31642753318725864\n",
      "\n",
      "max deaths: 0.31642753318725864\n",
      "\n",
      "range: (0, 0.34807028650598454)\n"
     ]
    }
   ],
   "source": [
    "max_death = compute_max(deaths, results, 'deaths')\n",
    "print()\n",
    "print_range(max_death)"
   ]
  },
  {
   "cell_type": "code",
   "execution_count": 26,
   "metadata": {},
   "outputs": [
    {
     "name": "stdout",
     "output_type": "stream",
     "text": [
      "range: (0, 11440.731541134763)\n"
     ]
    }
   ],
   "source": [
    "# evacuation costs\n",
    "print_range(max(results[\"Expected Evacuation Costs\"]))"
   ]
  },
  {
   "cell_type": "code",
   "execution_count": null,
   "metadata": {},
   "outputs": [],
   "source": []
  }
 ],
 "metadata": {
  "kernelspec": {
   "display_name": "Python 3",
   "language": "python",
   "name": "python3"
  },
  "language_info": {
   "codemirror_mode": {
    "name": "ipython",
    "version": 3
   },
   "file_extension": ".py",
   "mimetype": "text/x-python",
   "name": "python",
   "nbconvert_exporter": "python",
   "pygments_lexer": "ipython3",
   "version": "3.8.5"
  }
 },
 "nbformat": 4,
 "nbformat_minor": 4
}
