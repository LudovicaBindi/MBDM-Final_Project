{
 "cells": [
  {
   "cell_type": "markdown",
   "metadata": {},
   "source": [
    "Define the uncertainties,levers and outcomes."
   ]
  },
  {
   "cell_type": "code",
   "execution_count": null,
   "metadata": {},
   "outputs": [],
   "source": [
    "%matplotlib inline\n",
    "import numpy as np\n",
    "import pandas as pd\n",
    "\n",
    "import matplotlib.pyplot as plt\n",
    "import seaborn as sns\n",
    "sns.set_style('white')\n",
    "import platypus\n",
    "\n",
    "\n",
    "from ema_workbench.em_framework.evaluators import BaseEvaluator\n",
    "\n",
    "from ema_workbench.em_framework.evaluators import Samplers\n",
    "from ema_workbench.em_framework.points import Scenario\n",
    "\n",
    "from ema_workbench.analysis import feature_scoring\n",
    "from ema_workbench.analysis.scenario_discovery_util import RuleInductionType\n",
    "from ema_workbench.em_framework.salib_samplers import get_SALib_problem\n",
    "\n",
    "\n",
    "\n",
    "#from SALib.analyze import sobol"
   ]
  },
  {
   "cell_type": "code",
   "execution_count": 1,
   "metadata": {},
   "outputs": [],
   "source": [
    "# parts of ema-workbench so far used\n",
    "from ema_workbench import (Model, RealParameter, TimeSeriesOutcome,\n",
    "                           perform_experiments, ema_logging,Policy,MultiprocessingEvaluator,SequentialEvaluator)\n",
    "from ema_workbench.em_framework.points import Scenario\n",
    "\n",
    "from problem_formulation import get_model_for_problem_formulation\n",
    "\n",
    "# other libraries needed\n",
    "import pandas as pd"
   ]
  },
  {
   "cell_type": "code",
   "execution_count": 2,
   "metadata": {},
   "outputs": [],
   "source": [
    "# setting up the model as usual\n",
    "ema_logging.log_to_stderr(ema_logging.INFO)\n",
    "\n",
    "dike_model, planning_steps = get_model_for_problem_formulation(3)"
   ]
  },
  {
   "cell_type": "code",
   "execution_count": 3,
   "metadata": {},
   "outputs": [
    {
     "data": {
      "text/plain": [
       "{'discount rate 0': 0,\n",
       " 'discount rate 1': 0,\n",
       " 'discount rate 2': 0,\n",
       " 'A.0_ID flood wave shape': 0,\n",
       " 'A.1_Bmax': 30,\n",
       " 'A.1_pfail': 0,\n",
       " 'A.1_Brate': 0,\n",
       " 'A.2_Bmax': 30,\n",
       " 'A.2_pfail': 0,\n",
       " 'A.2_Brate': 0,\n",
       " 'A.3_Bmax': 30,\n",
       " 'A.3_pfail': 0,\n",
       " 'A.3_Brate': 0,\n",
       " 'A.4_Bmax': 30,\n",
       " 'A.4_pfail': 0,\n",
       " 'A.4_Brate': 0,\n",
       " 'A.5_Bmax': 30,\n",
       " 'A.5_pfail': 0,\n",
       " 'A.5_Brate': 0}"
      ]
     },
     "execution_count": 3,
     "metadata": {},
     "output_type": "execute_result"
    }
   ],
   "source": [
    "lower_bound_ref_sce = {}\n",
    "for uncertainty in dike_model.uncertainties:\n",
    "    lower_bound_ref_sce[uncertainty.name] = uncertainty.lower_bound\n",
    "lower_bound_ref_sce"
   ]
  },
  {
   "cell_type": "code",
   "execution_count": 4,
   "metadata": {},
   "outputs": [
    {
     "name": "stderr",
     "output_type": "stream",
     "text": [
      "100it [08:11,  4.92s/it]                                                       \n",
      "[MainProcess/INFO] optimization completed, found 70 solutions\n"
     ]
    }
   ],
   "source": [
    "with SequentialEvaluator(dike_model) as evaluator:\n",
    "    results_otpimization = evaluator.optimize(nfe=5, reference  = Scenario(**lower_bound_ref_sce),\n",
    "                                  searchover='levers', \n",
    "                                  epsilons=[0.1,]*len(dike_model.outcomes))"
   ]
  },
  {
   "cell_type": "code",
   "execution_count": 28,
   "metadata": {},
   "outputs": [
    {
     "data": {
      "text/plain": [
       "{'discount rate 0': 2.5,\n",
       " 'discount rate 1': 2.5,\n",
       " 'discount rate 2': 2.5,\n",
       " 'A.0_ID flood wave shape': 5,\n",
       " 'A.1_Bmax': 190,\n",
       " 'A.1_pfail': 0.5,\n",
       " 'A.1_Brate': 1.5,\n",
       " 'A.2_Bmax': 190,\n",
       " 'A.2_pfail': 0.5,\n",
       " 'A.2_Brate': 1.5,\n",
       " 'A.3_Bmax': 190,\n",
       " 'A.3_pfail': 0.5,\n",
       " 'A.3_Brate': 1.5,\n",
       " 'A.4_Bmax': 190,\n",
       " 'A.4_pfail': 0.5,\n",
       " 'A.4_Brate': 1.5,\n",
       " 'A.5_Bmax': 190,\n",
       " 'A.5_pfail': 0.5,\n",
       " 'A.5_Brate': 1.5}"
      ]
     },
     "execution_count": 28,
     "metadata": {},
     "output_type": "execute_result"
    }
   ],
   "source": [
    "# other way to set the reference scenario: using average\n",
    "ref_scenario_descprition = {}\n",
    "\n",
    "for i in [0, 1, 2]:\n",
    "    ref_scenario_descprition['discount rate ' + str(i)] = 2.5\n",
    "    \n",
    "ref_scenario_descprition['A.0_ID flood wave shape'] = 5\n",
    "\n",
    "for dike_ring in ['A.1', 'A.2', 'A.3', 'A.4', 'A.5']:   \n",
    "    ref_scenario_descprition[dike_ring + \"_Bmax\"] = 190\n",
    "    ref_scenario_descprition[dike_ring + \"_pfail\"] = 0.5\n",
    "    ref_scenario_descprition[dike_ring + \"_Brate\"] = 1.5\n",
    "    \n",
    "ref_scenario_descprition"
   ]
  },
  {
   "cell_type": "code",
   "execution_count": 29,
   "metadata": {},
   "outputs": [
    {
     "name": "stderr",
     "output_type": "stream",
     "text": [
      "100it [07:28,  4.48s/it]                                                       \n",
      "[MainProcess/INFO] optimization completed, found 71 solutions\n"
     ]
    }
   ],
   "source": [
    "with SequentialEvaluator(dike_model) as evaluator:\n",
    "    results_otpimization = evaluator.optimize(nfe=2, reference  = Scenario(**ref_scenario_descprition),\n",
    "                                  searchover='levers', \n",
    "                                  epsilons=[0.1,]*len(dike_model.outcomes))"
   ]
  },
  {
   "cell_type": "code",
   "execution_count": 8,
   "metadata": {},
   "outputs": [],
   "source": [
    "results_otpimization.to_csv(\"intermediate outputs/optimization output.csv\")"
   ]
  },
  {
   "cell_type": "code",
   "execution_count": 13,
   "metadata": {},
   "outputs": [
    {
     "name": "stderr",
     "output_type": "stream",
     "text": [
      "C:\\Users\\ludov\\anaconda3\\lib\\site-packages\\ema_workbench\\analysis\\prim.py:30: ImportWarning: altair based interactive inspection not available\n",
      "  warnings.warn(\n"
     ]
    },
    {
     "ename": "NameError",
     "evalue": "name 'model' is not defined",
     "output_type": "error",
     "traceback": [
      "\u001b[1;31m---------------------------------------------------------------------------\u001b[0m",
      "\u001b[1;31mNameError\u001b[0m                                 Traceback (most recent call last)",
      "\u001b[1;32m<ipython-input-13-db8a2c25b4f1>\u001b[0m in \u001b[0;36m<module>\u001b[1;34m\u001b[0m\n\u001b[0;32m      1\u001b[0m \u001b[1;32mfrom\u001b[0m \u001b[0mema_workbench\u001b[0m\u001b[1;33m.\u001b[0m\u001b[0manalysis\u001b[0m \u001b[1;32mimport\u001b[0m \u001b[0mparcoords\u001b[0m\u001b[1;33m\u001b[0m\u001b[1;33m\u001b[0m\u001b[0m\n\u001b[0;32m      2\u001b[0m \u001b[1;33m\u001b[0m\u001b[0m\n\u001b[1;32m----> 3\u001b[1;33m \u001b[0mdata\u001b[0m \u001b[1;33m=\u001b[0m \u001b[0mresults1\u001b[0m\u001b[1;33m.\u001b[0m\u001b[0mloc\u001b[0m\u001b[1;33m[\u001b[0m\u001b[1;33m:\u001b[0m\u001b[1;33m,\u001b[0m \u001b[1;33m[\u001b[0m\u001b[0mo\u001b[0m\u001b[1;33m.\u001b[0m\u001b[0mname\u001b[0m \u001b[1;32mfor\u001b[0m \u001b[0mo\u001b[0m \u001b[1;32min\u001b[0m \u001b[0mmodel\u001b[0m\u001b[1;33m.\u001b[0m\u001b[0moutcomes\u001b[0m\u001b[1;33m]\u001b[0m\u001b[1;33m]\u001b[0m\u001b[1;33m\u001b[0m\u001b[1;33m\u001b[0m\u001b[0m\n\u001b[0m\u001b[0;32m      4\u001b[0m \u001b[0mlimits\u001b[0m \u001b[1;33m=\u001b[0m \u001b[0mparcoords\u001b[0m\u001b[1;33m.\u001b[0m\u001b[0mget_limits\u001b[0m\u001b[1;33m(\u001b[0m\u001b[0mdata\u001b[0m\u001b[1;33m)\u001b[0m\u001b[1;33m\u001b[0m\u001b[1;33m\u001b[0m\u001b[0m\n\u001b[0;32m      5\u001b[0m \u001b[0mlimits\u001b[0m\u001b[1;33m.\u001b[0m\u001b[0mloc\u001b[0m\u001b[1;33m[\u001b[0m\u001b[1;36m0\u001b[0m\u001b[1;33m,\u001b[0m \u001b[1;33m[\u001b[0m\u001b[1;34m'All Costs'\u001b[0m\u001b[1;33m,\u001b[0m \u001b[1;34m'Expected Number of Deaths'\u001b[0m\u001b[1;33m]\u001b[0m\u001b[1;33m]\u001b[0m \u001b[1;33m=\u001b[0m \u001b[1;36m0\u001b[0m   \u001b[1;31m#more outcomes to be completed\u001b[0m\u001b[1;33m\u001b[0m\u001b[1;33m\u001b[0m\u001b[0m\n",
      "\u001b[1;31mNameError\u001b[0m: name 'model' is not defined"
     ]
    }
   ],
   "source": [
    "from ema_workbench.analysis import parcoords\n",
    "\n",
    "data = results1.loc[:, [o.name for o in results_otpimization.outcomes]]\n",
    "limits = parcoords.get_limits(data) \n",
    "limits.loc[0, ['All Costs', 'Expected Number of Deaths']] = 0   #more outcomes to be completed \n",
    "\n",
    "paraxes = parcoords.ParallelAxes(limits)\n",
    "paraxes.plot(data)\n",
    "paraxes.invert_axis('Expected Number of Deaths')\n",
    "plt.show()"
   ]
  },
  {
   "cell_type": "code",
   "execution_count": null,
   "metadata": {},
   "outputs": [],
   "source": [
    "with MultiprocessingEvaluator(model) as evaluator:\n",
    "    results2 = evaluator.optimize(nfe=5e3, searchover='levers',\n",
    "                                 epsilons=[0.01,]*len(model.outcomes))"
   ]
  },
  {
   "cell_type": "code",
   "execution_count": null,
   "metadata": {},
   "outputs": [],
   "source": [
    "data = results2.loc[:, [o.name for o in model.outcomes]]\n",
    "limits = parcoords.get_limits(data)\n",
    "limits.loc[0, ['All Costs','Expected Number of Deaths' ]] = 0   #more outcomes to be completed \n",
    "\n",
    "paraxes = parcoords.ParallelAxes(limits)\n",
    "paraxes.plot(data)\n",
    "paraxes.invert_axis('Expected Number of Deaths')\n",
    "plt.show()"
   ]
  }
 ],
 "metadata": {
  "kernelspec": {
   "display_name": "Python 3",
   "language": "python",
   "name": "python3"
  },
  "language_info": {
   "codemirror_mode": {
    "name": "ipython",
    "version": 3
   },
   "file_extension": ".py",
   "mimetype": "text/x-python",
   "name": "python",
   "nbconvert_exporter": "python",
   "pygments_lexer": "ipython3",
   "version": "3.8.5"
  }
 },
 "nbformat": 4,
 "nbformat_minor": 5
}
