{
 "cells": [
  {
   "cell_type": "markdown",
   "id": "71957a84",
   "metadata": {},
   "source": [
    "Define the uncertainties,levers and outcomes."
   ]
  },
  {
   "cell_type": "code",
   "execution_count": 1,
   "id": "572cc960",
   "metadata": {},
   "outputs": [
    {
     "name": "stderr",
     "output_type": "stream",
     "text": [
      "C:\\Users\\cyasl\\anaconda3\\envs\\gds\\lib\\site-packages\\ema_workbench\\analysis\\prim.py:30: ImportWarning: altair based interactive inspection not available\n",
      "  warnings.warn(\n"
     ]
    }
   ],
   "source": [
    "%matplotlib inline\n",
    "import numpy as np\n",
    "import pandas as pd\n",
    "\n",
    "import matplotlib.pyplot as plt\n",
    "import seaborn as sns\n",
    "sns.set_style('white')\n",
    "import platypus\n",
    "\n",
    "from ema_workbench import (Model, RealParameter, TimeSeriesOutcome,\n",
    "                           perform_experiments, ema_logging,Policy,MultiprocessingEvaluator,\n",
    "                           SequentialEvaluator)\n",
    "from ema_workbench.em_framework.evaluators import BaseEvaluator\n",
    "\n",
    "from ema_workbench.em_framework.evaluators import Samplers\n",
    "from ema_workbench.em_framework.points import Scenario\n",
    "\n",
    "from ema_workbench.analysis import feature_scoring\n",
    "from ema_workbench.analysis.scenario_discovery_util import RuleInductionType\n",
    "from ema_workbench.em_framework.salib_samplers import get_SALib_problem\n",
    "\n",
    "\n",
    "from problem_formulation import get_model_for_problem_formulation\n",
    "\n",
    "#from SALib.analyze import sobol"
   ]
  },
  {
   "cell_type": "code",
   "execution_count": 2,
   "id": "3849ed8c",
   "metadata": {},
   "outputs": [],
   "source": [
    "# setting up the model as usual\n",
    "ema_logging.log_to_stderr(ema_logging.INFO)\n",
    "\n",
    "dike_model, planning_steps = get_model_for_problem_formulation(3)"
   ]
  },
  {
   "cell_type": "code",
   "execution_count": 3,
   "id": "c12bcb5c-d2da-4540-86ae-c02a5719d0ea",
   "metadata": {},
   "outputs": [
    {
     "data": {
      "text/plain": [
       "{'discount rate 0': 0,\n",
       " 'discount rate 1': 0,\n",
       " 'discount rate 2': 0,\n",
       " 'A.0_ID flood wave shape': 0,\n",
       " 'A.1_Bmax': 30,\n",
       " 'A.1_pfail': 0,\n",
       " 'A.1_Brate': 0,\n",
       " 'A.2_Bmax': 30,\n",
       " 'A.2_pfail': 0,\n",
       " 'A.2_Brate': 0,\n",
       " 'A.3_Bmax': 30,\n",
       " 'A.3_pfail': 0,\n",
       " 'A.3_Brate': 0,\n",
       " 'A.4_Bmax': 30,\n",
       " 'A.4_pfail': 0,\n",
       " 'A.4_Brate': 0,\n",
       " 'A.5_Bmax': 30,\n",
       " 'A.5_pfail': 0,\n",
       " 'A.5_Brate': 0}"
      ]
     },
     "execution_count": 3,
     "metadata": {},
     "output_type": "execute_result"
    }
   ],
   "source": [
    "lower_bound_ref_sce = {}\n",
    "for uncertainty in dike_model.uncertainties:\n",
    "    lower_bound_ref_sce[uncertainty.name] = uncertainty.lower_bound\n",
    "lower_bound_ref_sce"
   ]
  },
  {
   "cell_type": "code",
   "execution_count": null,
   "id": "576ea1a2",
   "metadata": {},
   "outputs": [
    {
     "name": "stderr",
     "output_type": "stream",
     "text": [
      "  0%|                                                    | 0/5 [00:00<?, ?it/s]"
     ]
    }
   ],
   "source": [
    "with SequentialEvaluator(dike_model) as evaluator:\n",
    "    results1 = evaluator.optimize(nfe=5, reference  = Scenario(**lower_bound_ref_sce),\n",
    "                                  searchover='levers', \n",
    "                                  epsilons=[0.1,]*len(dike_model.outcomes))"
   ]
  },
  {
   "cell_type": "code",
   "execution_count": null,
   "id": "2de004da",
   "metadata": {},
   "outputs": [],
   "source": [
    "from ema_workbench.analysis import parcoords\n",
    "\n",
    "data = results1.loc[:, [o.name for o in model.outcomes]]\n",
    "limits = parcoords.get_limits(data) \n",
    "limits.loc[0, ['All Costs', 'Expected Number of Deaths']] = 0   #more outcomes to be completed \n",
    "\n",
    "paraxes = parcoords.ParallelAxes(limits)\n",
    "paraxes.plot(data)\n",
    "paraxes.invert_axis('Expected Number of Deaths')\n",
    "plt.show()"
   ]
  },
  {
   "cell_type": "code",
   "execution_count": null,
   "id": "9685afe4",
   "metadata": {},
   "outputs": [],
   "source": [
    "with MultiprocessingEvaluator(model) as evaluator:\n",
    "    results2 = evaluator.optimize(nfe=5e3, searchover='levers',\n",
    "                                 epsilons=[0.01,]*len(model.outcomes))"
   ]
  },
  {
   "cell_type": "code",
   "execution_count": null,
   "id": "00c17243",
   "metadata": {},
   "outputs": [],
   "source": [
    "data = results2.loc[:, [o.name for o in model.outcomes]]\n",
    "limits = parcoords.get_limits(data)\n",
    "limits.loc[0, ['All Costs','Expected Number of Deaths' ]] = 0   #more outcomes to be completed \n",
    "\n",
    "paraxes = parcoords.ParallelAxes(limits)\n",
    "paraxes.plot(data)\n",
    "paraxes.invert_axis('Expected Number of Deaths')\n",
    "plt.show()"
   ]
  }
 ],
 "metadata": {
  "kernelspec": {
   "display_name": "Python 3 (ipykernel)",
   "language": "python",
   "name": "python3"
  },
  "language_info": {
   "codemirror_mode": {
    "name": "ipython",
    "version": 3
   },
   "file_extension": ".py",
   "mimetype": "text/x-python",
   "name": "python",
   "nbconvert_exporter": "python",
   "pygments_lexer": "ipython3",
   "version": "3.8.12"
  }
 },
 "nbformat": 4,
 "nbformat_minor": 5
}
