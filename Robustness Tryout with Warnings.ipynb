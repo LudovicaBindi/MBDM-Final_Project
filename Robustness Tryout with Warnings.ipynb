{
 "cells": [
  {
   "cell_type": "code",
   "execution_count": 1,
   "metadata": {},
   "outputs": [
    {
     "ename": "ImportError",
     "evalue": "cannot import name 'LHS' from 'ema_workbench.em_framework.evaluators' (C:\\Users\\cyasl\\anaconda3\\envs\\gds\\lib\\site-packages\\ema_workbench\\em_framework\\evaluators.py)",
     "output_type": "error",
     "traceback": [
      "\u001b[1;31m---------------------------------------------------------------------------\u001b[0m",
      "\u001b[1;31mImportError\u001b[0m                               Traceback (most recent call last)",
      "\u001b[1;32m~\\AppData\\Local\\Temp/ipykernel_20212/920641202.py\u001b[0m in \u001b[0;36m<module>\u001b[1;34m\u001b[0m\n\u001b[0;32m     20\u001b[0m \u001b[1;32mimport\u001b[0m \u001b[0mseaborn\u001b[0m \u001b[1;32mas\u001b[0m \u001b[0msns\u001b[0m\u001b[1;33m\u001b[0m\u001b[1;33m\u001b[0m\u001b[0m\n\u001b[0;32m     21\u001b[0m \u001b[1;32mfrom\u001b[0m \u001b[0mema_workbench\u001b[0m\u001b[1;33m.\u001b[0m\u001b[0mem_framework\u001b[0m\u001b[1;33m.\u001b[0m\u001b[0msamplers\u001b[0m \u001b[1;32mimport\u001b[0m \u001b[0msample_levers\u001b[0m\u001b[1;33m,\u001b[0m \u001b[0msample_uncertainties\u001b[0m\u001b[1;33m\u001b[0m\u001b[1;33m\u001b[0m\u001b[0m\n\u001b[1;32m---> 22\u001b[1;33m \u001b[1;32mfrom\u001b[0m \u001b[0mema_workbench\u001b[0m\u001b[1;33m.\u001b[0m\u001b[0mem_framework\u001b[0m\u001b[1;33m.\u001b[0m\u001b[0mevaluators\u001b[0m \u001b[1;32mimport\u001b[0m \u001b[0mLHS\u001b[0m\u001b[1;33m,\u001b[0m \u001b[0mSOBOL\u001b[0m\u001b[1;33m,\u001b[0m \u001b[0mMORRIS\u001b[0m\u001b[1;33m,\u001b[0m \u001b[0mSequentialEvaluator\u001b[0m\u001b[1;33m\u001b[0m\u001b[1;33m\u001b[0m\u001b[0m\n\u001b[0m\u001b[0;32m     23\u001b[0m \u001b[1;33m\u001b[0m\u001b[0m\n\u001b[0;32m     24\u001b[0m from __future__ import (unicode_literals, print_function, absolute_import,\n",
      "\u001b[1;31mImportError\u001b[0m: cannot import name 'LHS' from 'ema_workbench.em_framework.evaluators' (C:\\Users\\cyasl\\anaconda3\\envs\\gds\\lib\\site-packages\\ema_workbench\\em_framework\\evaluators.py)"
     ]
    }
   ],
   "source": [
    "import pandas as pd\n",
    "import numpy as np\n",
    "import seaborn as sns\n",
    "import matplotlib.pyplot as plt\n",
    "%matplotlib inline\n",
    "sns.set_style(\"whitegrid\")\n",
    "\n",
    "from __future__ import (unicode_literals, print_function, absolute_import,\n",
    "                        division)\n",
    "\n",
    "\n",
    "from ema_workbench import (Model, MultiprocessingEvaluator, SequentialEvaluator,\n",
    "                           ScalarOutcome, IntegerParameter, optimize, Scenario)\n",
    "from ema_workbench.em_framework.optimization import EpsilonProgress, HyperVolume\n",
    "from ema_workbench.util import ema_logging\n",
    "from ema_workbench import (Model, RealParameter, IntegerParameter, CategoricalParameter, ScalarOutcome, Constant)\n",
    "\n",
    "from problem_formulation import get_model_for_problem_formulation\n",
    "import matplotlib.pyplot as plt\n",
    "import seaborn as sns\n",
    "from ema_workbench.em_framework.samplers import sample_levers, sample_uncertainties\n",
    "from ema_workbench.em_framework.evaluators import LHS, SOBOL, MORRIS, SequentialEvaluator\n",
    "\n",
    "from __future__ import (unicode_literals, print_function, absolute_import,\n",
    "                        division)\n",
    "\n",
    "\n",
    "from ema_workbench import (Model, MultiprocessingEvaluator,\n",
    "                           ScalarOutcome, IntegerParameter, optimize, Scenario)\n",
    "from ema_workbench.em_framework.optimization import EpsilonProgress, HyperVolume\n",
    "from ema_workbench.util import ema_logging\n",
    "\n",
    "from problem_formulation import get_model_for_problem_formulation\n",
    "import matplotlib.pyplot as plt\n",
    "import seaborn as sns\n",
    "\n",
    "\n",
    "if __name__ == '__main__':\n",
    "    ema_logging.log_to_stderr(ema_logging.INFO)\n",
    "\n",
    "    dike_model = get_model_for_problem_formulation(1)\n",
    "\n",
    "    reference_values = {'Bmax': 175, 'Brate': 1.5, 'pfail': 0.5,\n",
    "                        'discount rate': 3.5,\n",
    "                        'ID flood wave shape': 4}\n",
    "    scen1 = {}\n",
    "\n",
    "    for key in dike_model.uncertainties:\n",
    "        name_split = key.name.split('_')\n",
    "\n",
    "        if len(name_split) == 1:\n",
    "            scen1.update({key.name: reference_values[key.name]})\n",
    "\n",
    "        else:\n",
    "            scen1.update({key.name: reference_values[name_split[1]]})\n",
    "\n",
    "    ref_scenario = Scenario('reference', **scen1)\n",
    "    \n",
    "    dike_model.uncertainties = [RealParameter('A.0_ID flood wave shape', 0, 133),\n",
    "                   RealParameter('A1.Bmax', 30,350),\n",
    "                   CategoricalParameter('A1.Brate',(0.9,1.5,1000)),\n",
    "                   RealParameter('A1.pfail',0,1),\n",
    "                   RealParameter('A2.Bmax', 30,350),\n",
    "                   CategoricalParameter('A2.Brate',(0.9,1.5,1000)),\n",
    "                   RealParameter('A2.pfail',0,1),\n",
    "                   RealParameter('A3.Bmax', 30,350),\n",
    "                   CategoricalParameter('A3.Brate',(0.9,1.5,1000)),\n",
    "                   RealParameter('A3.pfail',0,1),\n",
    "                   RealParameter('A4.Bmax', 30,350),\n",
    "                   CategoricalParameter('A4.Brate',(0.9,1.5,1000)),\n",
    "                   RealParameter('A4.pfail',0,1),\n",
    "                   RealParameter('A5.Bmax', 30,350),\n",
    "                   CategoricalParameter('A5.Brate',(0.9,1.5,1000)),\n",
    "                   RealParameter('A5.pfail',0,1),\n",
    "                   CategoricalParameter('discount rate',(1.5,2.5,3.5,4.5))]\n",
    "\n",
    "\n",
    "    # set levers\n",
    "    dike_model.levers = [IntegerParameter('A1.DikeIncrease',0,10),\n",
    "                     IntegerParameter('A2.DikeIncrease',0,10),\n",
    "                     IntegerParameter('A3.DikeIncrease',0,10),\n",
    "                     IntegerParameter('A4.DikeIncrease',0,10),\n",
    "                     IntegerParameter('A5.DikeIncrease',0,2), #capped this variable to test if the model uses these specified levers\n",
    "                     CategoricalParameter('1_RfR',(0,1)),\n",
    "                     CategoricalParameter('2_RfR',(0,1)),\n",
    "                     CategoricalParameter('3_RfR',(0,1)),\n",
    "                     CategoricalParameter('4_RfR',(0,1)),\n",
    "                     CategoricalParameter('0_RfR',(0,1)),\n",
    "                     IntegerParameter('EWS_DaysToThreat',0,4)]\n",
    "\n",
    "\n",
    "    #specify outcomes\n",
    "    # note how we need to explicitely indicate the direction\n",
    "    dike_model.outcomes = [ScalarOutcome('Expected Annual Damage', kind=ScalarOutcome.MINIMIZE),\n",
    "                  ScalarOutcome('Total Investment Costs', kind=ScalarOutcome.MINIMIZE),\n",
    "                  ScalarOutcome('Expected Number of Deaths', kind=ScalarOutcome.MINIMIZE)]\n",
    "\n",
    "    convergence_metrics = [EpsilonProgress()]\n",
    "\n",
    "    espilon = [100000,100000,0.001]\n",
    "\n",
    "    nfe = 10\n",
    "\n",
    "    with SequentialEvaluator(dike_model) as evaluator:\n",
    "        results, convergence = evaluator.optimize(nfe=nfe,\n",
    "                                                  searchover='levers',\n",
    "                                                  epsilons=espilon,\n",
    "                                                  convergence=convergence_metrics,\n",
    "                                                  reference=ref_scenario\n",
    "                                                  )"
   ]
  },
  {
   "cell_type": "code",
   "execution_count": 3,
   "metadata": {},
   "outputs": [],
   "source": [
    "import problem_formulation"
   ]
  },
  {
   "cell_type": "code",
   "execution_count": 4,
   "metadata": {},
   "outputs": [
    {
     "name": "stderr",
     "output_type": "stream",
     "text": [
      "[MainProcess/INFO] model initialized\n"
     ]
    }
   ],
   "source": [
    "model = problem_formulation.get_model_for_problem_formulation(3)"
   ]
  },
  {
   "cell_type": "code",
   "execution_count": 9,
   "metadata": {},
   "outputs": [
    {
     "name": "stdout",
     "output_type": "stream",
     "text": [
      "IntegerParameter('A.1_DikeIncrease', 0, 10)\n",
      "IntegerParameter('A.2_DikeIncrease', 0, 10)\n",
      "IntegerParameter('A.3_DikeIncrease', 0, 10)\n",
      "IntegerParameter('A.4_DikeIncrease', 0, 10)\n",
      "IntegerParameter('A.5_DikeIncrease', 0, 10)\n",
      "IntegerParameter('0_RfR', 0, 1)\n",
      "IntegerParameter('1_RfR', 0, 1)\n",
      "IntegerParameter('2_RfR', 0, 1)\n",
      "IntegerParameter('3_RfR', 0, 1)\n",
      "IntegerParameter('4_RfR', 0, 1)\n",
      "IntegerParameter('EWS_DaysToThreat', 0, 4)\n"
     ]
    }
   ],
   "source": [
    "for l in model.levers:\n",
    "    print(repr(l))"
   ]
  },
  {
   "cell_type": "code",
   "execution_count": null,
   "metadata": {},
   "outputs": [],
   "source": []
  }
 ],
 "metadata": {
  "kernelspec": {
   "display_name": "Python 3 (ipykernel)",
   "language": "python",
   "name": "python3"
  },
  "language_info": {
   "codemirror_mode": {
    "name": "ipython",
    "version": 3
   },
   "file_extension": ".py",
   "mimetype": "text/x-python",
   "name": "python",
   "nbconvert_exporter": "python",
   "pygments_lexer": "ipython3",
   "version": "3.8.12"
  }
 },
 "nbformat": 4,
 "nbformat_minor": 4
}
