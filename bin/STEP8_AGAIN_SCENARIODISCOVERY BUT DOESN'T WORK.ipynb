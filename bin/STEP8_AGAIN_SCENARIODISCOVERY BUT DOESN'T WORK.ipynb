{
 "cells": [
  {
   "cell_type": "code",
   "execution_count": null,
   "metadata": {},
   "outputs": [],
   "source": [
    "all_scenarios=[]\n",
    "for scenario in experiments.scenario.unique():\n",
    "    logical = experiments.scenario==scenario\n",
    "    # for each scenario we get the values of the outcomes of all the policies that we are considering\n",
    "    temp_results = {k:v[logical] for k,v in outcomes.items()} \n",
    "    temp_results = pd.DataFrame(temp_results)\n",
    "    temp_experiments = experiments[experiments.scenario==scenario] # get the experiments description for the scenario\n",
    "    \n",
    "    scenario_values = temp_results# for each policy it computes the difference with the best values\n",
    "    scenario_values['policy'] = temp_experiments.policy.values # add the name of the policy    \n",
    "    all_scenarios.append(scenario_values) # save the scenario_regret\n",
    "    \n",
    "    \n",
    "all_scenarios = pd.concat(all_scenarios)"
   ]
  },
  {
   "cell_type": "code",
   "execution_count": null,
   "metadata": {},
   "outputs": [],
   "source": [
    "our_policy_scenario_values = all_scenarios.loc[all_scenarios['policy'] == 'scenario 0 option 2610']"
   ]
  },
  {
   "cell_type": "code",
   "execution_count": null,
   "metadata": {},
   "outputs": [],
   "source": [
    "our_policy_scenario_values['A.4_Expected Annual Damage'].mean()"
   ]
  },
  {
   "cell_type": "code",
   "execution_count": null,
   "metadata": {},
   "outputs": [],
   "source": [
    "# combine everything\n",
    "full = experiments.copy(deep=True)\n",
    "for outcome in outcomes:\n",
    "    full[outcome] = outcomes[outcome]"
   ]
  },
  {
   "cell_type": "code",
   "execution_count": null,
   "metadata": {},
   "outputs": [],
   "source": [
    "x = full.sample(n = 4999)\n",
    "y = x['A.4_Expected Annual Damage'] > 16102.595448638465"
   ]
  },
  {
   "cell_type": "code",
   "execution_count": null,
   "metadata": {},
   "outputs": [],
   "source": [
    "x = x.drop(columns=['A.4_Dike Investment Costs', 'A.4_Expected Annual Damage',\n",
    "       'A.4_Expected Number of Deaths', 'A.5_Dike Investment Costs',\n",
    "       'A.5_Expected Annual Damage', 'A.5_Expected Number of Deaths',\n",
    "       'Expected Evacuation Costs', 'RfR Total Costs',\n",
    "       'Other.Dikes_Expected Annual Damage',\n",
    "       'Other.Dikes_Total Dike Investment Costs',\n",
    "       'Other.Dikes_Expected Number of Deaths'])"
   ]
  },
  {
   "cell_type": "code",
   "execution_count": null,
   "metadata": {},
   "outputs": [],
   "source": [
    "#scenario discovery \n",
    "from ema_workbench.analysis import prim\n",
    "\n",
    "prim_alg = prim.Prim(x,y, threshold=0.6)\n",
    "box = prim_alg.find_box()"
   ]
  },
  {
   "cell_type": "code",
   "execution_count": null,
   "metadata": {},
   "outputs": [],
   "source": [
    "count = 0\n",
    "for i in y:\n",
    "    if i is True:\n",
    "        count += 1\n",
    "count"
   ]
  },
  {
   "cell_type": "code",
   "execution_count": null,
   "metadata": {},
   "outputs": [],
   "source": [
    "box.show_tradeoff()\n",
    "plt.show()"
   ]
  }
 ],
 "metadata": {
  "kernelspec": {
   "display_name": "Python 3",
   "language": "python",
   "name": "python3"
  },
  "language_info": {
   "codemirror_mode": {
    "name": "ipython",
    "version": 3
   },
   "file_extension": ".py",
   "mimetype": "text/x-python",
   "name": "python",
   "nbconvert_exporter": "python",
   "pygments_lexer": "ipython3",
   "version": "3.8.5"
  }
 },
 "nbformat": 4,
 "nbformat_minor": 4
}
