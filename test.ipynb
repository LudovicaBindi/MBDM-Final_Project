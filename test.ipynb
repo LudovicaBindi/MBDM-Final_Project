{
 "cells": [
  {
   "cell_type": "code",
   "execution_count": 6,
   "metadata": {},
   "outputs": [],
   "source": [
    "from problem_formulation import get_model_for_problem_formulation"
   ]
  },
  {
   "cell_type": "code",
   "execution_count": 7,
   "metadata": {},
   "outputs": [],
   "source": [
    "dike_model, planning_steps = get_model_for_problem_formulation(6)"
   ]
  },
  {
   "cell_type": "code",
   "execution_count": 8,
   "metadata": {},
   "outputs": [
    {
     "data": {
      "text/plain": [
       "<ema_workbench.em_framework.util.NamedObjectMap at 0x2306550fa90>"
      ]
     },
     "execution_count": 8,
     "metadata": {},
     "output_type": "execute_result"
    }
   ],
   "source": [
    "dike_model.outcomes"
   ]
  },
  {
   "cell_type": "code",
   "execution_count": 9,
   "metadata": {},
   "outputs": [
    {
     "name": "stdout",
     "output_type": "stream",
     "text": [
      "ScalarOutcome('A.4_Dike Investment Costs', variable_name=('A.4_Dike Investment Costs 0', 'A.4_Dike Investment Costs 1', 'A.4_Dike Investment Costs 2'), function=<function sum_over at 0x0000023060577280>)\n",
      "\n",
      "\n",
      "ScalarOutcome('A.4_Expected Annual Damage', variable_name=('A.4_Expected Annual Damage 0', 'A.4_Expected Annual Damage 1', 'A.4_Expected Annual Damage 2'), function=<function sum_over at 0x0000023060577280>)\n",
      "\n",
      "\n",
      "ScalarOutcome('A.4_Expected Number of Deaths', variable_name=('A.4_Expected Number of Deaths 0', 'A.4_Expected Number of Deaths 1', 'A.4_Expected Number of Deaths 2'), function=<function sum_over at 0x0000023060577280>)\n",
      "\n",
      "\n",
      "ScalarOutcome('A.5_Dike Investment Costs', variable_name=('A.5_Dike Investment Costs 0', 'A.5_Dike Investment Costs 1', 'A.5_Dike Investment Costs 2'), function=<function sum_over at 0x0000023060577280>)\n",
      "\n",
      "\n",
      "ScalarOutcome('A.5_Expected Annual Damage', variable_name=('A.5_Expected Annual Damage 0', 'A.5_Expected Annual Damage 1', 'A.5_Expected Annual Damage 2'), function=<function sum_over at 0x0000023060577280>)\n",
      "\n",
      "\n",
      "ScalarOutcome('A.5_Expected Number of Deaths', variable_name=('A.5_Expected Number of Deaths 0', 'A.5_Expected Number of Deaths 1', 'A.5_Expected Number of Deaths 2'), function=<function sum_over at 0x0000023060577280>)\n",
      "\n",
      "\n",
      "ScalarOutcome('Expected Evacuation Costs', variable_name=('Expected Evacuation Costs 0', 'Expected Evacuation Costs 1', 'Expected Evacuation Costs 2'), function=<function sum_over at 0x0000023060577280>)\n",
      "\n",
      "\n",
      "ScalarOutcome('RfR Total Costs', variable_name=('RfR Total Costs 0', 'RfR Total Costs 1', 'RfR Total Costs 2'), function=<function sum_over at 0x0000023060577280>)\n",
      "\n",
      "\n",
      "ScalarOutcome('Other.Dikes_Expected Annual Damage', variable_name=('A.1_Expected Annual Damage 0', 'A.2_Expected Annual Damage 0', 'A.3_Expected Annual Damage 0', 'A.1_Expected Annual Damage 1', 'A.2_Expected Annual Damage 1', 'A.3_Expected Annual Damage 1', 'A.1_Expected Annual Damage 2', 'A.2_Expected Annual Damage 2', 'A.3_Expected Annual Damage 2'), function=<function sum_over at 0x0000023060577280>)\n",
      "\n",
      "\n",
      "ScalarOutcome('Other.Dikes_Total Investment Costs', variable_name=('A.1_Dike Investment Costs 0', 'A.2_Dike Investment Costs 0', 'A.3_Dike Investment Costs 0', 'A.1_Dike Investment Costs 1', 'A.2_Dike Investment Costs 1', 'A.3_Dike Investment Costs 1', 'A.1_Dike Investment Costs 2', 'A.2_Dike Investment Costs 2', 'A.3_Dike Investment Costs 2'), function=<function sum_over at 0x0000023060577280>)\n",
      "\n",
      "\n",
      "ScalarOutcome('Other.Dikes_Expected Number of Deaths', variable_name=('A.1_Expected Number of Deaths 0', 'A.2_Expected Number of Deaths 0', 'A.3_Expected Number of Deaths 0', 'A.1_Expected Number of Deaths 1', 'A.2_Expected Number of Deaths 1', 'A.3_Expected Number of Deaths 1', 'A.1_Expected Number of Deaths 2', 'A.2_Expected Number of Deaths 2', 'A.3_Expected Number of Deaths 2'), function=<function sum_over at 0x0000023060577280>)\n",
      "\n",
      "\n"
     ]
    }
   ],
   "source": [
    "for outcome in dike_model.outcomes:\n",
    "    print(repr(outcome))\n",
    "    print('\\n')"
   ]
  },
  {
   "cell_type": "code",
   "execution_count": 10,
   "metadata": {},
   "outputs": [
    {
     "ename": "TypeError",
     "evalue": "unknownx identifier",
     "output_type": "error",
     "traceback": [
      "\u001b[1;31m---------------------------------------------------------------------------\u001b[0m",
      "\u001b[1;31mTypeError\u001b[0m                                 Traceback (most recent call last)",
      "\u001b[1;32m<ipython-input-10-6ca32a8dee48>\u001b[0m in \u001b[0;36m<module>\u001b[1;34m\u001b[0m\n\u001b[1;32m----> 1\u001b[1;33m \u001b[0mdike_model\u001b[0m\u001b[1;33m,\u001b[0m \u001b[0mplanning_steps\u001b[0m \u001b[1;33m=\u001b[0m \u001b[0mget_model_for_problem_formulation\u001b[0m\u001b[1;33m(\u001b[0m\u001b[1;36m7\u001b[0m\u001b[1;33m)\u001b[0m\u001b[1;33m\u001b[0m\u001b[1;33m\u001b[0m\u001b[0m\n\u001b[0m\u001b[0;32m      2\u001b[0m \u001b[1;32mfor\u001b[0m \u001b[0moutcome\u001b[0m \u001b[1;32min\u001b[0m \u001b[0mdike_model\u001b[0m\u001b[1;33m.\u001b[0m\u001b[0moutcomes\u001b[0m\u001b[1;33m:\u001b[0m\u001b[1;33m\u001b[0m\u001b[1;33m\u001b[0m\u001b[0m\n\u001b[0;32m      3\u001b[0m     \u001b[0mprint\u001b[0m\u001b[1;33m(\u001b[0m\u001b[0mrepr\u001b[0m\u001b[1;33m(\u001b[0m\u001b[0moutcome\u001b[0m\u001b[1;33m)\u001b[0m\u001b[1;33m)\u001b[0m\u001b[1;33m\u001b[0m\u001b[1;33m\u001b[0m\u001b[0m\n\u001b[0;32m      4\u001b[0m     \u001b[0mprint\u001b[0m\u001b[1;33m(\u001b[0m\u001b[1;34m'\\n'\u001b[0m\u001b[1;33m)\u001b[0m\u001b[1;33m\u001b[0m\u001b[1;33m\u001b[0m\u001b[0m\n",
      "\u001b[1;32m~\\Desktop\\Model-Based Decision Making\\Final project\\final assignment\\problem_formulation.py\u001b[0m in \u001b[0;36mget_model_for_problem_formulation\u001b[1;34m(problem_formulation_id)\u001b[0m\n\u001b[0;32m    333\u001b[0m                           \u001b[0mvariable_name\u001b[0m\u001b[1;33m=\u001b[0m\u001b[1;33m[\u001b[0m\u001b[0mvar\u001b[0m \u001b[1;32mfor\u001b[0m \u001b[0mvar\u001b[0m \u001b[1;32min\u001b[0m \u001b[0mvariable_names__\u001b[0m\u001b[1;33m]\u001b[0m\u001b[1;33m,\u001b[0m\u001b[1;33m\u001b[0m\u001b[1;33m\u001b[0m\u001b[0m\n\u001b[0;32m    334\u001b[0m                           function=sum_over, kind=direction))\n\u001b[1;32m--> 335\u001b[1;33m \u001b[1;33m\u001b[0m\u001b[0m\n\u001b[0m\u001b[0;32m    336\u001b[0m         \u001b[1;31m# add the outcomes to the model\u001b[0m\u001b[1;33m\u001b[0m\u001b[1;33m\u001b[0m\u001b[1;33m\u001b[0m\u001b[0m\n\u001b[0;32m    337\u001b[0m         \u001b[0mdike_model\u001b[0m\u001b[1;33m.\u001b[0m\u001b[0moutcomes\u001b[0m \u001b[1;33m=\u001b[0m \u001b[0moutcomes\u001b[0m\u001b[1;33m\u001b[0m\u001b[1;33m\u001b[0m\u001b[0m\n",
      "\u001b[1;31mTypeError\u001b[0m: unknownx identifier"
     ]
    }
   ],
   "source": [
    "dike_model, planning_steps = get_model_for_problem_formulation(7)\n",
    "for outcome in dike_model.outcomes:\n",
    "    print(repr(outcome))\n",
    "    print('\\n')"
   ]
  },
  {
   "cell_type": "code",
   "execution_count": 5,
   "metadata": {},
   "outputs": [
    {
     "name": "stdout",
     "output_type": "stream",
     "text": [
      "ScalarOutcome('Expected Annual Damage', variable_name=('A.1_Expected Annual Damage 0', 'A.2_Expected Annual Damage 0', 'A.3_Expected Annual Damage 0', 'A.4_Expected Annual Damage 0', 'A.5_Expected Annual Damage 0', 'A.1_Expected Annual Damage 1', 'A.2_Expected Annual Damage 1', 'A.3_Expected Annual Damage 1', 'A.4_Expected Annual Damage 1', 'A.5_Expected Annual Damage 1', 'A.1_Expected Annual Damage 2', 'A.2_Expected Annual Damage 2', 'A.3_Expected Annual Damage 2', 'A.4_Expected Annual Damage 2', 'A.5_Expected Annual Damage 2'), function=<function sum_over at 0x0000023060577280>)\n",
      "\n",
      "\n",
      "ScalarOutcome('Total Investment Costs', variable_name=('A.1_Dike Investment Costs 0', 'A.2_Dike Investment Costs 0', 'A.3_Dike Investment Costs 0', 'A.4_Dike Investment Costs 0', 'A.5_Dike Investment Costs 0', 'RfR Total Costs 0', 'Expected Evacuation Costs 0', 'A.1_Dike Investment Costs 1', 'A.2_Dike Investment Costs 1', 'A.3_Dike Investment Costs 1', 'A.4_Dike Investment Costs 1', 'A.5_Dike Investment Costs 1', 'RfR Total Costs 1', 'Expected Evacuation Costs 1', 'A.1_Dike Investment Costs 2', 'A.2_Dike Investment Costs 2', 'A.3_Dike Investment Costs 2', 'A.4_Dike Investment Costs 2', 'A.5_Dike Investment Costs 2', 'RfR Total Costs 2', 'Expected Evacuation Costs 2'), function=<function sum_over at 0x0000023060577280>)\n",
      "\n",
      "\n",
      "ScalarOutcome('Expected Number of Deaths', variable_name=('A.1_Expected Number of Deaths 0', 'A.2_Expected Number of Deaths 0', 'A.3_Expected Number of Deaths 0', 'A.4_Expected Number of Deaths 0', 'A.5_Expected Number of Deaths 0', 'A.1_Expected Number of Deaths 1', 'A.2_Expected Number of Deaths 1', 'A.3_Expected Number of Deaths 1', 'A.4_Expected Number of Deaths 1', 'A.5_Expected Number of Deaths 1', 'A.1_Expected Number of Deaths 2', 'A.2_Expected Number of Deaths 2', 'A.3_Expected Number of Deaths 2', 'A.4_Expected Number of Deaths 2', 'A.5_Expected Number of Deaths 2'), function=<function sum_over at 0x0000023060577280>)\n",
      "\n",
      "\n"
     ]
    }
   ],
   "source": [
    "dike_model, planning_steps = get_model_for_problem_formulation(1)\n",
    "for outcome in dike_model.outcomes:\n",
    "    print(repr(outcome))\n",
    "    print('\\n')"
   ]
  },
  {
   "cell_type": "code",
   "execution_count": null,
   "metadata": {},
   "outputs": [],
   "source": [
    "dike_model, planning_steps = get_model_for_problem_formulation(5)\n",
    "for outcome in dike_model.outcomes:\n",
    "    print(repr(outcome))\n",
    "    print('\\n')"
   ]
  }
 ],
 "metadata": {
  "kernelspec": {
   "display_name": "Python 3",
   "language": "python",
   "name": "python3"
  },
  "language_info": {
   "codemirror_mode": {
    "name": "ipython",
    "version": 3
   },
   "file_extension": ".py",
   "mimetype": "text/x-python",
   "name": "python",
   "nbconvert_exporter": "python",
   "pygments_lexer": "ipython3",
   "version": "3.8.5"
  }
 },
 "nbformat": 4,
 "nbformat_minor": 4
}
